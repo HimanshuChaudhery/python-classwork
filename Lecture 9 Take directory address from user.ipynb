{
 "cells": [
  {
   "cell_type": "code",
   "execution_count": 1,
   "id": "6d93be03-8d9f-4365-8613-684cf24c3eb9",
   "metadata": {},
   "outputs": [],
   "source": [
    "# Write a program that takes directory address from the user and organize files into corresponding folders"
   ]
  },
  {
   "cell_type": "code",
   "execution_count": 2,
   "id": "82ea92b5-0319-4bb3-afbc-b05a6969c0d6",
   "metadata": {},
   "outputs": [
    {
     "name": "stdin",
     "output_type": "stream",
     "text": [
      "Enter the directory path:  E:\\Youtube videos\n"
     ]
    },
    {
     "name": "stdout",
     "output_type": "stream",
     "text": [
      "Moved: 1670133141405.jpg to Images\n",
      "Moved: 1672311511883.jpg to Images\n",
      "Moved: az0g150u5e561.jpg to Images\n",
      "Moved: Bora Bora (valorant montage).mp4 to Videos\n",
      "Moved: Emma.mp4 to Videos\n",
      "Moved: Fast life (Valorant montage).mp4 to Videos\n",
      "Moved: For youtubes.mp4 to Videos\n",
      "Moved: Gate keeper of ashina.mp4 to Videos\n",
      "Moved: IMG_20211226_183650.jpg to Images\n",
      "Moved: IMG_20221120_212609.jpg to Images\n",
      "Moved: IMG_20221204_112502.jpg to Images\n",
      "Moved: lose it all.mp4 to Videos\n",
      "Moved: Lottery.mp4 to Videos\n",
      "Moved: Mortal Blade.jpg to Images\n",
      "Moved: New Text Document.txt to Documents\n",
      "Moved: SEKIRO  SHADOWS DIE TWICE 2022.10.27 - 20.56.50.04.00_00_49_48.Still001.jpg to Images\n",
      "Moved: SEKIRO  SHADOWS DIE TWICE 2022.10.27 - 20.56.50.04_3.mp4 to Videos\n",
      "Moved: SEKIRO  SHADOWS DIE TWICE 2022.10.27 - 20.56.50.04_4.mp4 to Videos\n",
      "Moved: SEKIRO  SHADOWS DIE TWICE 2022.11.03 - 15.04.35.05.mp4 to Videos\n",
      "Moved: SEKIRO  SHADOWS DIE TWICE 2022.11.04 - 16.36.50.02_1.mp4 to Videos\n",
      "Moved: SEKIRO  SHADOWS DIE TWICE 2022.12.08 - 02.16.21.37.DVR_1.mp4 to Videos\n",
      "Moved: SEKIRO  SHADOWS DIE TWICE 2022.12.27 - 14.58.52.02.DVR.mp4 to Videos\n",
      "Moved: SEKIRO  SHADOWS DIE TWICE 2022.12.27 - 14.58.52.02.DVR_2.mp4 to Videos\n",
      "Moved: Sekiro - La Espada.mp4 to Videos\n",
      "Moved: Sekiro sweating.jpg to Images\n",
      "Moved: sekiro vs isshin.mp4 to Videos\n",
      "Moved: Sekiro.jpg to Images\n",
      "Moved: Valorant 2022.01.11 - 22.37.31.02_1.mp4 to Videos\n",
      "Moved: VID_20230101085801.mp4 to Videos\n",
      "Files organized successfully.\n"
     ]
    }
   ],
   "source": [
    "import os\n",
    "\n",
    "def organizer_cont(directory):\n",
    "    # Check if the directory exists\n",
    "    if not os.path.exists(directory):\n",
    "        return \"Directory does not exist.\"\n",
    "\n",
    "    ext_map = {\n",
    "        'Images': ['.jpg', '.png'],\n",
    "        'Documents': ['.txt', '.odt'],\n",
    "        'Videos': ['.mkv', '.mp4'],\n",
    "        'Music': ['.mp3', '.wav']\n",
    "    }\n",
    "\n",
    "    # Create folders if they don't exist\n",
    "    for folder in ext_map.keys():\n",
    "        folder_path = os.path.join(directory, folder)\n",
    "        if not os.path.exists(folder_path):\n",
    "            os.makedirs(folder_path)\n",
    "\n",
    "    # Iterate over files in the directory\n",
    "    for f_name in os.listdir(directory):\n",
    "        f_path = os.path.join(directory, f_name)\n",
    "        if os.path.isfile(f_path):\n",
    "            f_ext = os.path.splitext(f_name)[1].lower()\n",
    "            \n",
    "            # Move files into their corresponding folders\n",
    "            for folder, extensions in ext_map.items():\n",
    "                if f_ext in extensions:\n",
    "                    destination_path = os.path.join(directory, folder, f_name)\n",
    "                    os.rename(f_path, destination_path)  # Move file\n",
    "                    print(f\"Moved: {f_name} to {folder}\")\n",
    "\n",
    "    return \"Files organized successfully.\"\n",
    "\n",
    "# Get directory input from the user\n",
    "directory = input(\"Enter the directory path: \")\n",
    "\n",
    "# Organize files\n",
    "res = organizer_cont(directory)\n",
    "print(res)\n"
   ]
  },
  {
   "cell_type": "code",
   "execution_count": null,
   "id": "31c4ccfe-fd56-4f31-9059-bf1e1eed7d91",
   "metadata": {},
   "outputs": [],
   "source": [
    "|"
   ]
  }
 ],
 "metadata": {
  "kernelspec": {
   "display_name": "Python 3 (ipykernel)",
   "language": "python",
   "name": "python3"
  },
  "language_info": {
   "codemirror_mode": {
    "name": "ipython",
    "version": 3
   },
   "file_extension": ".py",
   "mimetype": "text/x-python",
   "name": "python",
   "nbconvert_exporter": "python",
   "pygments_lexer": "ipython3",
   "version": "3.12.1"
  }
 },
 "nbformat": 4,
 "nbformat_minor": 5
}
