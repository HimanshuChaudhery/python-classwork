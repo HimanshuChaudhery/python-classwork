{
 "cells": [
  {
   "cell_type": "markdown",
   "id": "8c771867-76e9-44d2-8d6a-8d18ee226c01",
   "metadata": {},
   "source": [
    "Write a program that takes directory address from user and organise files into corresponding folders using OS module\n",
    "| Folder | File types |\n",
    "| --- | --- |\n",
    "| Images | jpg, img |\n",
    "| Vidoes | mp4, mkv |\n",
    "| Music  | mp3, oog |\n",
    "| Documents | txt, docx, pdf |\n",
    "| Misc | Other files |"
   ]
  },
  {
   "cell_type": "code",
   "execution_count": 1,
   "id": "008d99e9-17c5-4d60-9eee-70d6683c8f34",
   "metadata": {},
   "outputs": [
    {
     "name": "stdin",
     "output_type": "stream",
     "text": [
      "Enter the directory path:  C:\\Users\\Admin\\Desktop\\myrepo\n"
     ]
    },
    {
     "name": "stdout",
     "output_type": "stream",
     "text": [
      "Moved: documentation.txt to Documents\n",
      "Files organized successfully.\n"
     ]
    }
   ],
   "source": [
    "import os\n",
    "\n",
    "def organizer_cont(directory):\n",
    "    # Check if the directory exists\n",
    "    if not os.path.exists(directory):\n",
    "        return \"Directory does not exist.\"\n",
    "\n",
    "    ext_map = {\n",
    "        'Images': ['.jpg', '.png'],\n",
    "        'Documents': ['.txt', '.odt'],\n",
    "        'Videos': ['.mkv', '.mp4'],\n",
    "        'Music': ['.mp3', '.wav']\n",
    "    }\n",
    "\n",
    "    # Create folders if they don't exist\n",
    "    for folder in ext_map.keys():\n",
    "        folder_path = os.path.join(directory, folder)\n",
    "        if not os.path.exists(folder_path):\n",
    "            os.makedirs(folder_path)\n",
    "\n",
    "    # Iterate over files in the directory\n",
    "    for f_name in os.listdir(directory):\n",
    "        f_path = os.path.join(directory, f_name)\n",
    "        if os.path.isfile(f_path):\n",
    "            f_ext = os.path.splitext(f_name)[1].lower()\n",
    "            \n",
    "            # Move files into their corresponding folders\n",
    "            for folder, extensions in ext_map.items():\n",
    "                if f_ext in extensions:\n",
    "                    destination_path = os.path.join(directory, folder, f_name)\n",
    "                    os.rename(f_path, destination_path)  # Move file\n",
    "                    print(f\"Moved: {f_name} to {folder}\")\n",
    "\n",
    "    return \"Files organized successfully.\"\n",
    "\n",
    "# Get directory input from the user\n",
    "directory = input(\"Enter the directory path: \")\n",
    "\n",
    "# Organize files\n",
    "res = organizer_cont(directory)\n",
    "print(res)"
   ]
  },
  {
   "cell_type": "code",
   "execution_count": 2,
   "id": "c54544ba-9bdb-4929-a135-4332f7ac34ff",
   "metadata": {},
   "outputs": [
    {
     "data": {
      "text/plain": [
       "['.git',\n",
       " '.gitignore',\n",
       " 'Documents',\n",
       " 'Images',\n",
       " 'Music',\n",
       " 'myfile.cpp',\n",
       " 'new',\n",
       " 'Videos']"
      ]
     },
     "execution_count": 2,
     "metadata": {},
     "output_type": "execute_result"
    }
   ],
   "source": [
    "# wap to list all the files in your directory\n",
    "import os\n",
    "address = r\"C:\\Users\\Admin\\Desktop\\myrepo\"\n",
    "\n",
    "list_of_files = os.listdir(address)\n",
    "list_of_files"
   ]
  },
  {
   "cell_type": "code",
   "execution_count": null,
   "id": "ded38ae0-b2ec-426f-a74c-74f0512fd1b0",
   "metadata": {},
   "outputs": [],
   "source": []
  }
 ],
 "metadata": {
  "kernelspec": {
   "display_name": "Python 3 (ipykernel)",
   "language": "python",
   "name": "python3"
  },
  "language_info": {
   "codemirror_mode": {
    "name": "ipython",
    "version": 3
   },
   "file_extension": ".py",
   "mimetype": "text/x-python",
   "name": "python",
   "nbconvert_exporter": "python",
   "pygments_lexer": "ipython3",
   "version": "3.12.1"
  }
 },
 "nbformat": 4,
 "nbformat_minor": 5
}
