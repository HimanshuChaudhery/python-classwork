{
 "cells": [
  {
   "cell_type": "markdown",
   "id": "f097791c-a2e0-4532-9d8e-a82e849ec3f1",
   "metadata": {},
   "source": [
    "Write a function that takes a one variable as input argument and return its sum, commulative sum, average, minimum and maximum. Implement this function using for loop.\n",
    "Define function documentation using .string and show its uses"
   ]
  },
  {
   "cell_type": "code",
   "execution_count": 1,
   "id": "6f618357-101e-42da-b018-b6b085c43c17",
   "metadata": {},
   "outputs": [
    {
     "name": "stdout",
     "output_type": "stream",
     "text": [
      "15\n",
      "[1, 3, 8, 11, 15]\n",
      "Average: 3.0\n",
      "Minimum in list 1\n",
      "Minimum in list 5\n"
     ]
    }
   ],
   "source": [
    "def sum(nums):\n",
    "    total = 0\n",
    "    # For SUMS\n",
    "    for i in range(0,len(nums)):\n",
    "        total = total + nums[i]\n",
    "\n",
    "    print(total)\n",
    "\n",
    "    # For Commulative sum\n",
    "    ctotal = 0\n",
    "    csum = []\n",
    "    for i in range(0,len(nums)):\n",
    "        ctotal = ctotal+nums[i]\n",
    "        csum.append(ctotal)\n",
    "\n",
    "    print(csum)\n",
    "\n",
    "    # For average\n",
    "    for i in range(0,len(nums)):\n",
    "        avg = total/len(nums)\n",
    "\n",
    "    print(\"Average:\",avg)\n",
    "\n",
    "    # for minimum\n",
    "    print(\"Minimum in list\",min(nums))\n",
    "\n",
    "    #for maximum\n",
    "    print(\"Minimum in list\",max(nums))\n",
    "    \n",
    "nums=[1,2,5,3,4]\n",
    "sum(nums)"
   ]
  },
  {
   "cell_type": "markdown",
   "id": "167bfe8f-ae07-4675-ae6c-ee1d5bc27493",
   "metadata": {},
   "source": [
    "Write a program to take n inputs from user and store them as a list \n",
    "\n",
    "case 1: N is defined by user\n",
    "\n",
    "case 2: User can enter the number as per thier requirements"
   ]
  },
  {
   "cell_type": "code",
   "execution_count": 2,
   "id": "a252103b-e76d-44de-8605-7ec17f140321",
   "metadata": {},
   "outputs": [
    {
     "name": "stdin",
     "output_type": "stream",
     "text": [
      "Enter  the number of inputs:  5\n",
      "Enter the number:  9\n",
      "Enter the number:  8\n",
      "Enter the number:  7\n",
      "Enter the number:  6\n",
      "Enter the number:  3\n"
     ]
    },
    {
     "name": "stdout",
     "output_type": "stream",
     "text": [
      "The list is  [9, 8, 7, 6, 3]\n"
     ]
    }
   ],
   "source": [
    "n = int(input(\"Enter  the number of inputs: \"))\n",
    "nlist = []\n",
    "for i in range(n):\n",
    "    numbers = int(input(\"Enter the number: \"))\n",
    "    nlist.append(numbers)\n",
    "    \n",
    "print(\"The list is \",nlist)"
   ]
  },
  {
   "cell_type": "markdown",
   "id": "c66ab289-32b2-4fca-b743-324939645211",
   "metadata": {},
   "source": [
    "QUESTION 3"
   ]
  },
  {
   "cell_type": "code",
   "execution_count": 3,
   "id": "80f8e277-77e6-4142-bf4b-0db662ca7e9a",
   "metadata": {},
   "outputs": [
    {
     "name": "stdout",
     "output_type": "stream",
     "text": [
      "<class 'tuple'>\n",
      "Error please enter valid input data type\n"
     ]
    }
   ],
   "source": [
    "def cumulative(list1):\n",
    "    cl=list()\n",
    "    sum=0\n",
    "    for i in list1:\n",
    "        sum=sum+i\n",
    "        cl.append(sum)\n",
    "    print(\"sum:\",sum)\n",
    "    print(\"Average\",sum/n)\n",
    "    print(\"Minimum:\",min(list1))\n",
    "    print(\"Maximum:\",max(list1))\n",
    "    print(cl)\n",
    "list3=(1,2,3)\n",
    "print(type(list3))\n",
    "if(type(list3) is not list):\n",
    "    print(\"Error please enter valid input data type\")\n",
    "else:\n",
    "    cumulative(list3)"
   ]
  },
  {
   "cell_type": "code",
   "execution_count": null,
   "id": "90b0f91e-60f5-4787-8ae4-cc7608693371",
   "metadata": {},
   "outputs": [],
   "source": []
  }
 ],
 "metadata": {
  "kernelspec": {
   "display_name": "Python 3 (ipykernel)",
   "language": "python",
   "name": "python3"
  },
  "language_info": {
   "codemirror_mode": {
    "name": "ipython",
    "version": 3
   },
   "file_extension": ".py",
   "mimetype": "text/x-python",
   "name": "python",
   "nbconvert_exporter": "python",
   "pygments_lexer": "ipython3",
   "version": "3.12.1"
  }
 },
 "nbformat": 4,
 "nbformat_minor": 5
}
