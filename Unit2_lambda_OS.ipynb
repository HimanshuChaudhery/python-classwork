{
 "cells": [
  {
   "cell_type": "markdown",
   "id": "bb041013-7f26-4976-afe6-a68451dcdb7c",
   "metadata": {},
   "source": [
    "Lambda, Map, Filter list Comprehension"
   ]
  },
  {
   "cell_type": "code",
   "execution_count": 25,
   "id": "12cdc03f-4925-4188-bdc3-83e4f402e030",
   "metadata": {},
   "outputs": [
    {
     "name": "stdout",
     "output_type": "stream",
     "text": [
      "30\n"
     ]
    }
   ],
   "source": [
    "# Function to add two variables\n",
    "\n",
    "def myadd1(a,b):\n",
    "    res = a+b\n",
    "    return res\n",
    "\n",
    "a=10\n",
    "b=20\n",
    "res=myadd1(a,b)\n",
    "print(res)"
   ]
  },
  {
   "cell_type": "code",
   "execution_count": 9,
   "id": "999bb034-fc85-4e3a-84ee-bb738a811ad2",
   "metadata": {},
   "outputs": [
    {
     "name": "stdout",
     "output_type": "stream",
     "text": [
      "8\n"
     ]
    }
   ],
   "source": [
    "# lambda Function to add two variables\n",
    "add = lambda a, b: a+b\n",
    "print(add(3,5))\n"
   ]
  },
  {
   "cell_type": "markdown",
   "id": "09a93502-dee2-46fb-aa54-7afc4e136c7e",
   "metadata": {},
   "source": [
    "Write a program to multiply two variables using lambda function."
   ]
  },
  {
   "cell_type": "code",
   "execution_count": 6,
   "id": "e1cf8e32-7aa1-4233-9805-315f450a8737",
   "metadata": {},
   "outputs": [
    {
     "name": "stdout",
     "output_type": "stream",
     "text": [
      "12\n"
     ]
    }
   ],
   "source": [
    "a = 3\n",
    "b = 4\n",
    "multi = lambda a, b: a*b # Lambda function only takes single expression\n",
    "print(multi(a,b))"
   ]
  },
  {
   "cell_type": "markdown",
   "id": "bee8c40b-c774-4d09-862c-a9160cf93b6e",
   "metadata": {},
   "source": [
    "Write a program to square each number and then return only even numbers"
   ]
  },
  {
   "cell_type": "code",
   "execution_count": 7,
   "id": "9f1eff69-400f-4b4a-af24-5fa8c0ef77fe",
   "metadata": {},
   "outputs": [
    {
     "name": "stdout",
     "output_type": "stream",
     "text": [
      "[1, 4, 9, 16, 25]\n",
      "[4, 16]\n",
      "[4, 16]\n"
     ]
    }
   ],
   "source": [
    "# Using map\n",
    "numbers = [1, 2, 3, 4, 5]\n",
    "squared = list(map(lambda x: x*x, numbers))\n",
    "print(list(squared))\n",
    "\n",
    "# returning even numbers\n",
    "squa = []\n",
    "for num in squared:\n",
    "    if num%2==0:\n",
    "        squa.append(num)\n",
    "        \n",
    "print(list(squa))\n",
    "\n",
    "# Using filter\n",
    "even= list(filter(lambda x: x%2==0, squared))\n",
    "\n",
    "print(even)"
   ]
  },
  {
   "cell_type": "markdown",
   "id": "ba754501-d662-4efb-be80-79b27220801e",
   "metadata": {},
   "source": [
    "Write a program to create a list of square of even numbers."
   ]
  },
  {
   "cell_type": "code",
   "execution_count": 26,
   "id": "7dccac1f-cb48-482c-afac-0fcac1cc012f",
   "metadata": {},
   "outputs": [
    {
     "name": "stdout",
     "output_type": "stream",
     "text": [
      "[0, 2, 4, 6, 8]\n"
     ]
    }
   ],
   "source": [
    "squares = []\n",
    "for i in range(10):\n",
    "    if i%2==0:\n",
    "        squares.append(i)\n",
    "\n",
    "print(list(squares))"
   ]
  },
  {
   "cell_type": "markdown",
   "id": "920d78d4-30ff-4388-b612-d496285cca5b",
   "metadata": {},
   "source": [
    "Write a program that takes a list containing your SAP ID and return the list of email address."
   ]
  },
  {
   "cell_type": "code",
   "execution_count": 37,
   "id": "3bf9ffd7-5342-457a-918d-ee6db6d87780",
   "metadata": {},
   "outputs": [
    {
     "data": {
      "text/plain": [
       "['122@stu.upes.ac.in',\n",
       " '123@stu.upes.ac.in',\n",
       " '234@stu.upes.ac.in',\n",
       " '43@stu.upes.ac.in',\n",
       " '845@stu.upes.ac.in',\n",
       " '45@stu.upes.ac.in']"
      ]
     },
     "execution_count": 37,
     "metadata": {},
     "output_type": "execute_result"
    }
   ],
   "source": [
    "sap = {123,122,234,45,234,845,43}\n",
    "emails = [f\"{i}@stu.upes.ac.in\" for i in sap]\n",
    "emails"
   ]
  },
  {
   "cell_type": "markdown",
   "id": "96ef29f9-278f-4182-9cdc-466312193121",
   "metadata": {},
   "source": [
    "Write a program that takes email addresses and message from user and using SMTP library send message to all the email addresses (H.W)"
   ]
  },
  {
   "cell_type": "code",
   "execution_count": null,
   "id": "73fa1852-213d-4962-88ef-4d7af50923b1",
   "metadata": {},
   "outputs": [
    {
     "name": "stdin",
     "output_type": "stream",
     "text": [
      "Enter password:  ········\n"
     ]
    },
    {
     "name": "stdout",
     "output_type": "stream",
     "text": [
      "[*] Echoing the server: 250 b'MI1P293CA0012.outlook.office365.com Hello [103.182.161.102]\\nSIZE 157286400\\nPIPELINING\\nDSN\\nENHANCEDSTATUSCODES\\nSTARTTLS\\n8BITMIME\\nSMTPUTF8'\n",
      "[*] Starting TLS connection: 220 b'2.0.0 SMTP server ready'\n"
     ]
    }
   ],
   "source": [
    "import smtplib\n",
    "import getpass\n",
    "\n",
    "HOST = \"smtp-mail.outlook.com\"  # SMTP server domain for Outlook\n",
    "PORT = 587  # Server port number\n",
    "\n",
    "FROM_EMAIL = \"\"  # Sender email ID\n",
    "TO_EMAIL = \"\"  # Receiver email ID\n",
    "PASSWORD = getpass.getpass(\"Enter password: \")  # Sender email password\n",
    "\n",
    "# Email message with headers\n",
    "MESSAGE = \"\"\"From: Himanshu <Enter sender email ID>\n",
    "To: Himanshu Chaudhery <Enter receiver email ID>\n",
    "Subject: Mail sent using Python\n",
    "\n",
    "Hi Himanshu,\n",
    "\n",
    "This email is sent using an Outlook account.\n",
    "\n",
    "Thanks,\n",
    "Himanshu Outlook\"\"\"\n",
    "\n",
    "# Connection to the server\n",
    "try:\n",
    "    smtp = smtplib.SMTP(HOST, PORT)\n",
    "    status_code, response = smtp.ehlo()  # Check server response\n",
    "    print(f\"[*] Echoing the server: {status_code} {response}\")\n",
    "\n",
    "    status_code, response = smtp.starttls()  # Start TLS connection\n",
    "    print(f\"[*] Starting TLS connection: {status_code} {response}\")\n",
    "\n",
    "    status_code, response = smtp.login(FROM_EMAIL, PASSWORD)  # Log in to the server\n",
    "    print(f\"[*] Logging in: {status_code} {response}\")\n",
    "\n",
    "    smtp.sendmail(FROM_EMAIL, TO_EMAIL, MESSAGE)  # Send email\n",
    "    print(\"[*] Email sent successfully.\")\n",
    "\n",
    "except Exception as e:\n",
    "    print(f\"Error: {e}\")\n",
    "\n",
    "finally:\n",
    "    smtp.quit()  # Ensure connection is closed\n"
   ]
  },
  {
   "cell_type": "markdown",
   "id": "56abe867-b8ee-43c3-ba79-ff3252c7c371",
   "metadata": {},
   "source": [
    "Write a program to print current time then pause for and sleep for 2 sec again print current time."
   ]
  },
  {
   "cell_type": "code",
   "execution_count": 9,
   "id": "36aab423-c874-4b27-af93-caf04b0deb08",
   "metadata": {},
   "outputs": [
    {
     "name": "stdout",
     "output_type": "stream",
     "text": [
      "Help on built-in module time:\n",
      "\n",
      "NAME\n",
      "    time - This module provides various functions to manipulate time values.\n",
      "\n",
      "DESCRIPTION\n",
      "    There are two standard representations of time.  One is the number\n",
      "    of seconds since the Epoch, in UTC (a.k.a. GMT).  It may be an integer\n",
      "    or a floating point number (to represent fractions of seconds).\n",
      "    The Epoch is system-defined; on Unix, it is generally January 1st, 1970.\n",
      "    The actual value can be retrieved by calling gmtime(0).\n",
      "\n",
      "    The other representation is a tuple of 9 integers giving local time.\n",
      "    The tuple items are:\n",
      "      year (including century, e.g. 1998)\n",
      "      month (1-12)\n",
      "      day (1-31)\n",
      "      hours (0-23)\n",
      "      minutes (0-59)\n",
      "      seconds (0-59)\n",
      "      weekday (0-6, Monday is 0)\n",
      "      Julian day (day in the year, 1-366)\n",
      "      DST (Daylight Savings Time) flag (-1, 0 or 1)\n",
      "    If the DST flag is 0, the time is given in the regular time zone;\n",
      "    if it is 1, the time is given in the DST time zone;\n",
      "    if it is -1, mktime() should guess based on the date and time.\n",
      "\n",
      "CLASSES\n",
      "    builtins.tuple(builtins.object)\n",
      "        struct_time\n",
      "\n",
      "    class struct_time(builtins.tuple)\n",
      "     |  struct_time(iterable=(), /)\n",
      "     |\n",
      "     |  The time value as returned by gmtime(), localtime(), and strptime(), and\n",
      "     |  accepted by asctime(), mktime() and strftime().  May be considered as a\n",
      "     |  sequence of 9 integers.\n",
      "     |\n",
      "     |  Note that several fields' values are not the same as those defined by\n",
      "     |  the C language standard for struct tm.  For example, the value of the\n",
      "     |  field tm_year is the actual year, not year - 1900.  See individual\n",
      "     |  fields' descriptions for details.\n",
      "     |\n",
      "     |  Method resolution order:\n",
      "     |      struct_time\n",
      "     |      builtins.tuple\n",
      "     |      builtins.object\n",
      "     |\n",
      "     |  Methods defined here:\n",
      "     |\n",
      "     |  __reduce__(...)\n",
      "     |      Helper for pickle.\n",
      "     |\n",
      "     |  __repr__(self, /)\n",
      "     |      Return repr(self).\n",
      "     |\n",
      "     |  ----------------------------------------------------------------------\n",
      "     |  Static methods defined here:\n",
      "     |\n",
      "     |  __new__(*args, **kwargs) from builtins.type\n",
      "     |      Create and return a new object.  See help(type) for accurate signature.\n",
      "     |\n",
      "     |  ----------------------------------------------------------------------\n",
      "     |  Data descriptors defined here:\n",
      "     |\n",
      "     |  tm_gmtoff\n",
      "     |      offset from UTC in seconds\n",
      "     |\n",
      "     |  tm_hour\n",
      "     |      hours, range [0, 23]\n",
      "     |\n",
      "     |  tm_isdst\n",
      "     |      1 if summer time is in effect, 0 if not, and -1 if unknown\n",
      "     |\n",
      "     |  tm_mday\n",
      "     |      day of month, range [1, 31]\n",
      "     |\n",
      "     |  tm_min\n",
      "     |      minutes, range [0, 59]\n",
      "     |\n",
      "     |  tm_mon\n",
      "     |      month of year, range [1, 12]\n",
      "     |\n",
      "     |  tm_sec\n",
      "     |      seconds, range [0, 61])\n",
      "     |\n",
      "     |  tm_wday\n",
      "     |      day of week, range [0, 6], Monday is 0\n",
      "     |\n",
      "     |  tm_yday\n",
      "     |      day of year, range [1, 366]\n",
      "     |\n",
      "     |  tm_year\n",
      "     |      year, for example, 1993\n",
      "     |\n",
      "     |  tm_zone\n",
      "     |      abbreviation of timezone name\n",
      "     |\n",
      "     |  ----------------------------------------------------------------------\n",
      "     |  Data and other attributes defined here:\n",
      "     |\n",
      "     |  __match_args__ = ('tm_year', 'tm_mon', 'tm_mday', 'tm_hour', 'tm_min',...\n",
      "     |\n",
      "     |  n_fields = 11\n",
      "     |\n",
      "     |  n_sequence_fields = 9\n",
      "     |\n",
      "     |  n_unnamed_fields = 0\n",
      "     |\n",
      "     |  ----------------------------------------------------------------------\n",
      "     |  Methods inherited from builtins.tuple:\n",
      "     |\n",
      "     |  __add__(self, value, /)\n",
      "     |      Return self+value.\n",
      "     |\n",
      "     |  __contains__(self, key, /)\n",
      "     |      Return bool(key in self).\n",
      "     |\n",
      "     |  __eq__(self, value, /)\n",
      "     |      Return self==value.\n",
      "     |\n",
      "     |  __ge__(self, value, /)\n",
      "     |      Return self>=value.\n",
      "     |\n",
      "     |  __getattribute__(self, name, /)\n",
      "     |      Return getattr(self, name).\n",
      "     |\n",
      "     |  __getitem__(self, key, /)\n",
      "     |      Return self[key].\n",
      "     |\n",
      "     |  __getnewargs__(self, /)\n",
      "     |\n",
      "     |  __gt__(self, value, /)\n",
      "     |      Return self>value.\n",
      "     |\n",
      "     |  __hash__(self, /)\n",
      "     |      Return hash(self).\n",
      "     |\n",
      "     |  __iter__(self, /)\n",
      "     |      Implement iter(self).\n",
      "     |\n",
      "     |  __le__(self, value, /)\n",
      "     |      Return self<=value.\n",
      "     |\n",
      "     |  __len__(self, /)\n",
      "     |      Return len(self).\n",
      "     |\n",
      "     |  __lt__(self, value, /)\n",
      "     |      Return self<value.\n",
      "     |\n",
      "     |  __mul__(self, value, /)\n",
      "     |      Return self*value.\n",
      "     |\n",
      "     |  __ne__(self, value, /)\n",
      "     |      Return self!=value.\n",
      "     |\n",
      "     |  __rmul__(self, value, /)\n",
      "     |      Return value*self.\n",
      "     |\n",
      "     |  count(self, value, /)\n",
      "     |      Return number of occurrences of value.\n",
      "     |\n",
      "     |  index(self, value, start=0, stop=9223372036854775807, /)\n",
      "     |      Return first index of value.\n",
      "     |\n",
      "     |      Raises ValueError if the value is not present.\n",
      "     |\n",
      "     |  ----------------------------------------------------------------------\n",
      "     |  Class methods inherited from builtins.tuple:\n",
      "     |\n",
      "     |  __class_getitem__(...) from builtins.type\n",
      "     |      See PEP 585\n",
      "\n",
      "FUNCTIONS\n",
      "    asctime(...)\n",
      "        asctime([tuple]) -> string\n",
      "\n",
      "        Convert a time tuple to a string, e.g. 'Sat Jun 06 16:26:11 1998'.\n",
      "        When the time tuple is not present, current time as returned by localtime()\n",
      "        is used.\n",
      "\n",
      "    ctime(...)\n",
      "        ctime(seconds) -> string\n",
      "\n",
      "        Convert a time in seconds since the Epoch to a string in local time.\n",
      "        This is equivalent to asctime(localtime(seconds)). When the time tuple is\n",
      "        not present, current time as returned by localtime() is used.\n",
      "\n",
      "    get_clock_info(...)\n",
      "        get_clock_info(name: str) -> dict\n",
      "\n",
      "        Get information of the specified clock.\n",
      "\n",
      "    gmtime(...)\n",
      "        gmtime([seconds]) -> (tm_year, tm_mon, tm_mday, tm_hour, tm_min,\n",
      "                               tm_sec, tm_wday, tm_yday, tm_isdst)\n",
      "\n",
      "        Convert seconds since the Epoch to a time tuple expressing UTC (a.k.a.\n",
      "        GMT).  When 'seconds' is not passed in, convert the current time instead.\n",
      "\n",
      "        If the platform supports the tm_gmtoff and tm_zone, they are available as\n",
      "        attributes only.\n",
      "\n",
      "    localtime(...)\n",
      "        localtime([seconds]) -> (tm_year,tm_mon,tm_mday,tm_hour,tm_min,\n",
      "                                  tm_sec,tm_wday,tm_yday,tm_isdst)\n",
      "\n",
      "        Convert seconds since the Epoch to a time tuple expressing local time.\n",
      "        When 'seconds' is not passed in, convert the current time instead.\n",
      "\n",
      "    mktime(...)\n",
      "        mktime(tuple) -> floating point number\n",
      "\n",
      "        Convert a time tuple in local time to seconds since the Epoch.\n",
      "        Note that mktime(gmtime(0)) will not generally return zero for most\n",
      "        time zones; instead the returned value will either be equal to that\n",
      "        of the timezone or altzone attributes on the time module.\n",
      "\n",
      "    monotonic(...)\n",
      "        monotonic() -> float\n",
      "\n",
      "        Monotonic clock, cannot go backward.\n",
      "\n",
      "    monotonic_ns(...)\n",
      "        monotonic_ns() -> int\n",
      "\n",
      "        Monotonic clock, cannot go backward, as nanoseconds.\n",
      "\n",
      "    perf_counter(...)\n",
      "        perf_counter() -> float\n",
      "\n",
      "        Performance counter for benchmarking.\n",
      "\n",
      "    perf_counter_ns(...)\n",
      "        perf_counter_ns() -> int\n",
      "\n",
      "        Performance counter for benchmarking as nanoseconds.\n",
      "\n",
      "    process_time(...)\n",
      "        process_time() -> float\n",
      "\n",
      "        Process time for profiling: sum of the kernel and user-space CPU time.\n",
      "\n",
      "    process_time_ns(...)\n",
      "        process_time() -> int\n",
      "\n",
      "        Process time for profiling as nanoseconds:\n",
      "        sum of the kernel and user-space CPU time.\n",
      "\n",
      "    sleep(...)\n",
      "        sleep(seconds)\n",
      "\n",
      "        Delay execution for a given number of seconds.  The argument may be\n",
      "        a floating point number for subsecond precision.\n",
      "\n",
      "    strftime(...)\n",
      "        strftime(format[, tuple]) -> string\n",
      "\n",
      "        Convert a time tuple to a string according to a format specification.\n",
      "        See the library reference manual for formatting codes. When the time tuple\n",
      "        is not present, current time as returned by localtime() is used.\n",
      "\n",
      "        Commonly used format codes:\n",
      "\n",
      "        %Y  Year with century as a decimal number.\n",
      "        %m  Month as a decimal number [01,12].\n",
      "        %d  Day of the month as a decimal number [01,31].\n",
      "        %H  Hour (24-hour clock) as a decimal number [00,23].\n",
      "        %M  Minute as a decimal number [00,59].\n",
      "        %S  Second as a decimal number [00,61].\n",
      "        %z  Time zone offset from UTC.\n",
      "        %a  Locale's abbreviated weekday name.\n",
      "        %A  Locale's full weekday name.\n",
      "        %b  Locale's abbreviated month name.\n",
      "        %B  Locale's full month name.\n",
      "        %c  Locale's appropriate date and time representation.\n",
      "        %I  Hour (12-hour clock) as a decimal number [01,12].\n",
      "        %p  Locale's equivalent of either AM or PM.\n",
      "\n",
      "        Other codes may be available on your platform.  See documentation for\n",
      "        the C library strftime function.\n",
      "\n",
      "    strptime(...)\n",
      "        strptime(string, format) -> struct_time\n",
      "\n",
      "        Parse a string to a time tuple according to a format specification.\n",
      "        See the library reference manual for formatting codes (same as\n",
      "        strftime()).\n",
      "\n",
      "        Commonly used format codes:\n",
      "\n",
      "        %Y  Year with century as a decimal number.\n",
      "        %m  Month as a decimal number [01,12].\n",
      "        %d  Day of the month as a decimal number [01,31].\n",
      "        %H  Hour (24-hour clock) as a decimal number [00,23].\n",
      "        %M  Minute as a decimal number [00,59].\n",
      "        %S  Second as a decimal number [00,61].\n",
      "        %z  Time zone offset from UTC.\n",
      "        %a  Locale's abbreviated weekday name.\n",
      "        %A  Locale's full weekday name.\n",
      "        %b  Locale's abbreviated month name.\n",
      "        %B  Locale's full month name.\n",
      "        %c  Locale's appropriate date and time representation.\n",
      "        %I  Hour (12-hour clock) as a decimal number [01,12].\n",
      "        %p  Locale's equivalent of either AM or PM.\n",
      "\n",
      "        Other codes may be available on your platform.  See documentation for\n",
      "        the C library strftime function.\n",
      "\n",
      "    thread_time(...)\n",
      "        thread_time() -> float\n",
      "\n",
      "        Thread time for profiling: sum of the kernel and user-space CPU time.\n",
      "\n",
      "    thread_time_ns(...)\n",
      "        thread_time() -> int\n",
      "\n",
      "        Thread time for profiling as nanoseconds:\n",
      "        sum of the kernel and user-space CPU time.\n",
      "\n",
      "    time(...)\n",
      "        time() -> floating point number\n",
      "\n",
      "        Return the current time in seconds since the Epoch.\n",
      "        Fractions of a second may be present if the system clock provides them.\n",
      "\n",
      "    time_ns(...)\n",
      "        time_ns() -> int\n",
      "\n",
      "        Return the current time in nanoseconds since the Epoch.\n",
      "\n",
      "DATA\n",
      "    altzone = -23400\n",
      "    daylight = 0\n",
      "    timezone = -19800\n",
      "    tzname = ('India Standard Time', 'India Daylight Time')\n",
      "\n",
      "FILE\n",
      "    (built-in)\n",
      "\n",
      "\n"
     ]
    }
   ],
   "source": [
    "import time\n",
    "help(time)"
   ]
  },
  {
   "cell_type": "code",
   "execution_count": 11,
   "id": "4a26c1bf-0677-4792-a20c-e2ddb0fb06c4",
   "metadata": {},
   "outputs": [
    {
     "name": "stdout",
     "output_type": "stream",
     "text": [
      "Current time (in seconds): 1725976214.9752054\n",
      "The current time is 09/10/2024\n",
      "The current time is 19:19:37\n",
      "Tue Sep 10 19:20:16 2024\n"
     ]
    }
   ],
   "source": [
    "current_time = time.time()\n",
    "print(f\"Current time (in seconds): {current_time}\")\n",
    "ctime = time.localtime(current_time)\n",
    "\n",
    "#current date\n",
    "# The strftime method in Python is used to create a string representation of date and time using various format directives. \n",
    "# This method is available on date, datetime, and time objects.\n",
    "current_date = time.strftime(\"%m/%d/%Y\", current_time_tuple)\n",
    "print(\"The current time is\", current_date)\n",
    "\n",
    "#current time\n",
    "current_time_string = time.strftime(\"%H:%M:%S\", current_time_tuple)\n",
    "print(\"The current time is\", current_time_string)\n",
    "\n",
    "# Sleep time = pause time\n",
    "time.sleep(2)\n",
    "\n",
    "print(time.ctime())"
   ]
  },
  {
   "cell_type": "markdown",
   "id": "ce460896-fd32-42ab-896d-a53f52d4923d",
   "metadata": {},
   "source": [
    "Write a program that takes directory address from user and returns a list of files and directories in that list using OS module."
   ]
  },
  {
   "cell_type": "code",
   "execution_count": 1,
   "id": "7d733ca3-c42d-487c-a8c2-a32cbbf89251",
   "metadata": {},
   "outputs": [
    {
     "name": "stdout",
     "output_type": "stream",
     "text": [
      "['.gitignore', 'documentation.txt', 'myfile.cpp']\n"
     ]
    }
   ],
   "source": [
    "import os\n",
    "\n",
    "# directory/folder path\n",
    "dir_path = r\"C:\\Users\\Admin\\Desktop\\myrepo\"\n",
    "\n",
    "# list to store files\n",
    "slist = []\n",
    "\n",
    "for file_path in os.listdir(dir_path):\n",
    "    # check if current file_path is a file\n",
    "    if os.path.isfile(os.path.join(dir_path, file_path)):\n",
    "        # add filename to list\n",
    "        slist.append(file_path)\n",
    "        \n",
    "print(slist)"
   ]
  },
  {
   "cell_type": "code",
   "execution_count": null,
   "id": "6ec88df9-be3f-4a20-afe9-0e043110e0d8",
   "metadata": {},
   "outputs": [],
   "source": []
  }
 ],
 "metadata": {
  "kernelspec": {
   "display_name": "Python 3 (ipykernel)",
   "language": "python",
   "name": "python3"
  },
  "language_info": {
   "codemirror_mode": {
    "name": "ipython",
    "version": 3
   },
   "file_extension": ".py",
   "mimetype": "text/x-python",
   "name": "python",
   "nbconvert_exporter": "python",
   "pygments_lexer": "ipython3",
   "version": "3.12.1"
  }
 },
 "nbformat": 4,
 "nbformat_minor": 5
}
